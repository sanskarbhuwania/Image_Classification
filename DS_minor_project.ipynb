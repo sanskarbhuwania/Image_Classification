{
  "nbformat": 4,
  "nbformat_minor": 0,
  "metadata": {
    "colab": {
      "name": "DS_minor_project.ipynb",
      "provenance": [],
      "collapsed_sections": [],
      "mount_file_id": "1RvmUhg7DWI6XtnIxPzl_sRf710zEHqeC",
      "authorship_tag": "ABX9TyPXJ2ZaeG0d424cemhZOZVF",
      "include_colab_link": true
    },
    "kernelspec": {
      "name": "python3",
      "display_name": "Python 3"
    }
  },
  "cells": [
    {
      "cell_type": "markdown",
      "metadata": {
        "id": "view-in-github",
        "colab_type": "text"
      },
      "source": [
        "<a href=\"https://colab.research.google.com/github/sanskarbhuwania/Minor-Project/blob/main/DS_minor_project.ipynb\" target=\"_parent\"><img src=\"https://colab.research.google.com/assets/colab-badge.svg\" alt=\"Open In Colab\"/></a>"
      ]
    },
    {
      "cell_type": "code",
      "metadata": {
        "id": "cSm4zjG0ytij"
      },
      "source": [
        "import pandas as pd\r\n",
        "import matplotlib.pyplot as plt\r\n",
        "import numpy as np\r\n",
        "import os"
      ],
      "execution_count": null,
      "outputs": []
    },
    {
      "cell_type": "code",
      "metadata": {
        "id": "3X1UcZ5FzH_k"
      },
      "source": [
        "from skimage.transform import resize\r\n",
        "from skimage.io import imread\r\n",
        "target=[]\r\n",
        "images=[]\r\n",
        "flat_data=[]"
      ],
      "execution_count": null,
      "outputs": []
    },
    {
      "cell_type": "code",
      "metadata": {
        "id": "XMsjZjbAzKfo"
      },
      "source": [
        "dir='/content/drive/MyDrive/data'\r\n",
        "categories=['airplane','drones','helicopter']\r\n",
        "for i in categories:\r\n",
        "  pos=categories.index(i)\r\n",
        "  path=os.path.join(dir,i)\r\n",
        "  for img in os.listdir(path):\r\n",
        "    img_array=imread(os.path.join(path,img)) \r\n",
        "    img_resize=resize(img_array,(150,150,3)) # Nomalization happenes automatically\r\n",
        "    flat_data.append(img_resize.flatten())\r\n",
        "    images.append(img_resize)\r\n",
        "    target.append(pos)\r\n",
        "flat_data=np.array(flat_data)\r\n",
        "target=np.array(target)\r\n",
        "images=np.array(images)\r\n",
        "df=pd.DataFrame(flat_data)\r\n",
        "df['Target']=target"
      ],
      "execution_count": null,
      "outputs": []
    },
    {
      "cell_type": "code",
      "metadata": {
        "id": "UyA_6kNgzNu_"
      },
      "source": [
        "x=df.iloc[:,1:-1].values\r\n",
        "y=df.iloc[:,67500:67501].values\r\n",
        "from sklearn.model_selection import train_test_split\r\n",
        "x_train,x_test,y_train,y_test=train_test_split(x,y,test_size=0.25,random_state=0,stratify=y)\r\n",
        "y=y.flatten() \r\n",
        "y_train=y_train.flatten() \r\n",
        "y_test=y_test.flatten() "
      ],
      "execution_count": null,
      "outputs": []
    },
    {
      "cell_type": "code",
      "metadata": {
        "id": "aUSh4g3mzQJX"
      },
      "source": [
        "from sklearn.model_selection import GridSearchCV\r\n",
        "from sklearn import svm\r\n",
        "from sklearn.svm import SVC\r\n",
        "svc=SVC()\r\n",
        "parameters={'kernel':['rbf','linear'],\r\n",
        "            'C': [1,10,100]\r\n",
        "}\r\n",
        "cv=GridSearchCV(svc,parameters,cv=5)\r\n",
        "cv.fit(x_train,y_train)\r\n",
        "cv.best_params_"
      ],
      "execution_count": null,
      "outputs": []
    },
    {
      "cell_type": "code",
      "metadata": {
        "id": "8iOxrlxXzS9t"
      },
      "source": [
        "model=SVC(C=10, kernel='rbf')\r\n",
        "model.fit(x_train,y_train)\r\n",
        "y_pred=model.predict(x_test)\r\n",
        "print(y_pred)\r\n",
        "print(y_test)"
      ],
      "execution_count": null,
      "outputs": []
    },
    {
      "cell_type": "code",
      "metadata": {
        "id": "dGz1NyxhzVK6"
      },
      "source": [
        "from sklearn.metrics import accuracy_score, confusion_matrix, classification_report\r\n",
        "accuracy_score(y_pred,y_test)"
      ],
      "execution_count": null,
      "outputs": []
    },
    {
      "cell_type": "code",
      "metadata": {
        "id": "I_vpxSo_zZDf"
      },
      "source": [
        "confusion_matrix(y_pred,y_test)"
      ],
      "execution_count": null,
      "outputs": []
    },
    {
      "cell_type": "code",
      "metadata": {
        "id": "vEsqJYK0za0d"
      },
      "source": [
        "classification_report(y_pred,y_test)"
      ],
      "execution_count": null,
      "outputs": []
    }
  ]
}