{
  "nbformat": 4,
  "nbformat_minor": 0,
  "metadata": {
    "colab": {
      "name": "DS_minor_project.ipynb",
      "provenance": [],
      "collapsed_sections": []
    },
    "kernelspec": {
      "name": "python3",
      "display_name": "Python 3"
    }
  },
  "cells": [
    {
      "cell_type": "code",
      "metadata": {
        "id": "cSm4zjG0ytij"
      },
      "source": [
        "import pandas as pd\r\n",
        "import matplotlib.pyplot as plt\r\n",
        "import numpy as np\r\n",
        "import os"
      ],
      "execution_count": 2,
      "outputs": []
    },
    {
      "cell_type": "code",
      "metadata": {
        "id": "3X1UcZ5FzH_k"
      },
      "source": [
        "from skimage.transform import resize\r\n",
        "from skimage.io import imread\r\n",
        "target=[]\r\n",
        "images=[]\r\n",
        "flat_data=[]"
      ],
      "execution_count": 3,
      "outputs": []
    },
    {
      "cell_type": "code",
      "metadata": {
        "id": "XMsjZjbAzKfo"
      },
      "source": [
        "dir='/content/drive/MyDrive/data'\r\n",
        "categories=['airplane','drones','helicopter']\r\n",
        "for i in categories:\r\n",
        "  pos=categories.index(i)\r\n",
        "  path=os.path.join(dir,i)\r\n",
        "  for img in os.listdir(path):\r\n",
        "    img_array=imread(os.path.join(path,img)) \r\n",
        "    img_resize=resize(img_array,(150,150,3)) # Nomalization happenes automatically\r\n",
        "    flat_data.append(img_resize.flatten())\r\n",
        "    images.append(img_resize)\r\n",
        "    target.append(pos)\r\n",
        "flat_data=np.array(flat_data)\r\n",
        "target=np.array(target)\r\n",
        "images=np.array(images)\r\n",
        "df=pd.DataFrame(flat_data)\r\n",
        "df['Target']=target"
      ],
      "execution_count": 4,
      "outputs": []
    },
    {
      "cell_type": "code",
      "metadata": {
        "id": "UyA_6kNgzNu_"
      },
      "source": [
        "x=df.iloc[:,1:-1].values\r\n",
        "y=df.iloc[:,67500:67501].values\r\n",
        "from sklearn.model_selection import train_test_split\r\n",
        "x_train,x_test,y_train,y_test=train_test_split(x,y,test_size=0.25,random_state=0,stratify=y)\r\n",
        "y=y.flatten() \r\n",
        "y_train=y_train.flatten() \r\n",
        "y_test=y_test.flatten() "
      ],
      "execution_count": 6,
      "outputs": []
    },
    {
      "cell_type": "code",
      "metadata": {
        "colab": {
          "base_uri": "https://localhost:8080/"
        },
        "id": "aUSh4g3mzQJX",
        "outputId": "ed384d9b-534d-4eb7-e2ce-319f566b4d82"
      },
      "source": [
        "from sklearn.model_selection import GridSearchCV\r\n",
        "from sklearn import svm\r\n",
        "from sklearn.svm import SVC\r\n",
        "svc=SVC()\r\n",
        "parameters={'kernel':['rbf','linear'],\r\n",
        "            'C': [1,10,100]\r\n",
        "}\r\n",
        "cv=GridSearchCV(svc,parameters,cv=5)\r\n",
        "cv.fit(x_train,y_train)\r\n",
        "cv.best_params_"
      ],
      "execution_count": 13,
      "outputs": [
        {
          "output_type": "execute_result",
          "data": {
            "text/plain": [
              "{'C': 10, 'kernel': 'rbf'}"
            ]
          },
          "metadata": {
            "tags": []
          },
          "execution_count": 13
        }
      ]
    },
    {
      "cell_type": "code",
      "metadata": {
        "colab": {
          "base_uri": "https://localhost:8080/"
        },
        "id": "8iOxrlxXzS9t",
        "outputId": "24964a63-d9aa-4318-9e59-a08011b07ea0"
      },
      "source": [
        "model=SVC(C=10, kernel='rbf')\r\n",
        "model.fit(x_train,y_train)\r\n",
        "y_pred=model.predict(x_test)\r\n",
        "print(y_pred)\r\n",
        "print(y_test)"
      ],
      "execution_count": 14,
      "outputs": [
        {
          "output_type": "stream",
          "text": [
            "[0 0 0 0 2 1 1 0 2 0 1 0 2 1 2 2 2 0 2 2 2 1 2]\n",
            "[0 1 0 0 2 0 1 0 2 2 1 2 2 1 2 0 2 1 2 0 0 1 1]\n"
          ],
          "name": "stdout"
        }
      ]
    },
    {
      "cell_type": "code",
      "metadata": {
        "colab": {
          "base_uri": "https://localhost:8080/"
        },
        "id": "dGz1NyxhzVK6",
        "outputId": "8e41dfaa-01b0-4931-bc23-93e86e00fb69"
      },
      "source": [
        "from sklearn.metrics import accuracy_score, confusion_matrix, classification_report\r\n",
        "accuracy_score(y_pred,y_test)"
      ],
      "execution_count": 15,
      "outputs": [
        {
          "output_type": "execute_result",
          "data": {
            "text/plain": [
              "0.6086956521739131"
            ]
          },
          "metadata": {
            "tags": []
          },
          "execution_count": 15
        }
      ]
    },
    {
      "cell_type": "code",
      "metadata": {
        "colab": {
          "base_uri": "https://localhost:8080/"
        },
        "id": "I_vpxSo_zZDf",
        "outputId": "d764336b-7d2f-4008-c941-7d3e9902d39d"
      },
      "source": [
        "confusion_matrix(y_pred,y_test)"
      ],
      "execution_count": 11,
      "outputs": [
        {
          "output_type": "execute_result",
          "data": {
            "text/plain": [
              "array([[4, 2, 2],\n",
              "       [1, 4, 0],\n",
              "       [3, 1, 6]])"
            ]
          },
          "metadata": {
            "tags": []
          },
          "execution_count": 11
        }
      ]
    },
    {
      "cell_type": "code",
      "metadata": {
        "colab": {
          "base_uri": "https://localhost:8080/",
          "height": 70
        },
        "id": "vEsqJYK0za0d",
        "outputId": "db6ad68d-4dd2-4152-ac71-a2859d84b765"
      },
      "source": [
        "classification_report(y_pred,y_test)"
      ],
      "execution_count": 12,
      "outputs": [
        {
          "output_type": "execute_result",
          "data": {
            "application/vnd.google.colaboratory.intrinsic+json": {
              "type": "string"
            },
            "text/plain": [
              "'              precision    recall  f1-score   support\\n\\n           0       0.50      0.50      0.50         8\\n           1       0.57      0.80      0.67         5\\n           2       0.75      0.60      0.67        10\\n\\n    accuracy                           0.61        23\\n   macro avg       0.61      0.63      0.61        23\\nweighted avg       0.62      0.61      0.61        23\\n'"
            ]
          },
          "metadata": {
            "tags": []
          },
          "execution_count": 12
        }
      ]
    }
  ]
}